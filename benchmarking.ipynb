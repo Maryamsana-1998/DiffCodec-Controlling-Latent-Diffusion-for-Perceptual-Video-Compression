{
 "cells": [
  {
   "cell_type": "code",
   "execution_count": 3,
   "id": "001a1c97-418c-4efc-a1ec-f0cdbe59b0e3",
   "metadata": {},
   "outputs": [
    {
     "name": "stdout",
     "output_type": "stream",
     "text": [
      "['data/UVG/Beauty/images/frame_0001.png', 'data/UVG/Beauty/images/frame_0003.png', 'data/UVG/Beauty/images/frame_0005.png', 'data/UVG/Beauty/images/frame_0007.png', 'data/UVG/Beauty/images/frame_0009.png', 'data/UVG/Beauty/images/frame_0011.png', 'data/UVG/Beauty/images/frame_0013.png', 'data/UVG/Beauty/images/frame_0015.png', 'data/UVG/Beauty/images/frame_0017.png', 'data/UVG/Beauty/images/frame_0019.png'] 48 10\n",
      "✅ Metrics: {'PSNR': 27.872452354431154, 'MS-SSIM': 0.917842036485672, 'LPIPS': 0.11427011787891388, 'FID': 1.0486811399459839, 'FVD': 652912.0873239608}\n"
     ]
    },
    {
     "name": "stderr",
     "output_type": "stream",
     "text": [
      "/home/maryamsana_98/.local/lib/python3.8/site-packages/scipy/linalg/_matfuncs_sqrtm.py:205: RuntimeWarning: invalid value encountered in scalar divide\n",
      "  arg2 = norm(X.dot(X) - A, 'fro')**2 / norm(A, 'fro')\n"
     ]
    },
    {
     "data": {
      "text/plain": [
       "{'PSNR': 27.872452354431154,\n",
       " 'MS-SSIM': 0.917842036485672,\n",
       " 'LPIPS': 0.11427011787891388,\n",
       " 'FID': 1.0486811399459839,\n",
       " 'FVD': 652912.0873239608}"
      ]
     },
     "execution_count": 3,
     "metadata": {},
     "output_type": "execute_result"
    }
   ],
   "source": [
    "from utils.plot_utils import plot_metrics_individually\n",
    "import os\n",
    "import glob\n",
    "from PIL import Image\n",
    "from collections import defaultdict\n",
    "import numpy as np\n",
    "import pandas as pd\n",
    "from test_utils import calculate_metrics_batch\n",
    "\n",
    "# === Utility Functions ===\n",
    "def get_png_paths(folder):\n",
    "    return sorted([os.path.join(folder, f) for f in os.listdir(folder) if f.endswith(\".png\")])\n",
    "\n",
    "def load_image_pairs(original_paths, pred_paths, resize=False):\n",
    "    images_a, images_b = [], []\n",
    "    for p1, p2 in zip(original_paths, pred_paths):\n",
    "        if os.path.exists(p1) and os.path.exists(p2):\n",
    "            img_a = Image.open(p1).convert(\"RGB\")\n",
    "            img_b = Image.open(p2).convert(\"RGB\")\n",
    "            if resize:\n",
    "                img_b = img_b.resize((1920, 1080), Image.Resampling.LANCZOS)\n",
    "            images_a.append(img_a)\n",
    "            images_b.append(img_b)\n",
    "        else:\n",
    "            print(f\"⚠️ Missing: {p1} or {p2}\")\n",
    "    return images_a, images_b\n",
    "\n",
    "def evaluate_video_uni(original_folder, pred_folder, gop=2):\n",
    "    original_paths = get_png_paths(original_folder)[1::gop]\n",
    "    pred_paths = get_png_paths(pred_folder)[1::gop]\n",
    "    print(original_paths[:10], len(original_paths), len(pred_paths))\n",
    "\n",
    "    orig_imgs, pred_imgs = load_image_pairs(original_paths, pred_paths, resize=True)\n",
    "    if orig_imgs and pred_imgs:\n",
    "        metrics = calculate_metrics_batch(orig_imgs, pred_imgs)\n",
    "        print(\"✅ Metrics:\", metrics)\n",
    "        return metrics\n",
    "    print(\"❌ No valid pairs.\")\n",
    "    return {}\n",
    "\n",
    "# evaluate_video_uni('data/UVG/Beauty/images','experiments/bi_warp_v3/preds_170k_gop2_q4/Beauty',2)"
   ]
  },
  {
   "cell_type": "code",
   "execution_count": 8,
   "id": "c1944762-643e-412d-b22d-efcd44216d4b",
   "metadata": {},
   "outputs": [],
   "source": [
    "def evaluate_all_videos_uni(original_root, pred_root, gop=2, warp=False,mode=1):\n",
    "    flow_storage = {\n",
    "        \"Beauty\": 16525.653333, \"Bosphorus\": 15291.733333, \"HoneyBee\": 14057.813333,\n",
    "        \"Jockey\": 28380.160000, \"ReadySteadyGo\": 16112.640000,\n",
    "        \"ShakeNDry\": 14059.520000, \"YachtRide\": 31167.146667\n",
    "    }\n",
    "\n",
    "    all_metrics = defaultdict(list)\n",
    "    for video in sorted(os.listdir(pred_root)):\n",
    "        orig_path = os.path.join(original_root, video, \"images\")\n",
    "        pred_path = os.path.join(pred_root, video)\n",
    "        if os.path.exists(orig_path) and os.path.exists(pred_path):\n",
    "            print(f\"▶️ Evaluating {video}\")\n",
    "            metrics = evaluate_video_uni(orig_path, pred_path, gop)\n",
    "            if warp:\n",
    "                no = 96 - (96 / gop)\n",
    "                metrics['bpp'] = (flow_storage[video] * no*mode) / (1920 * 1080 * no)\n",
    "            else:\n",
    "                metrics['bpp'] = 0\n",
    "            for k, v in metrics.items():\n",
    "                all_metrics[k].append(v)\n",
    "        else:\n",
    "            print(f\"❌ Skipping {video} (missing folders)\")\n",
    "\n",
    "    print(\"\\n📊 Mean Metrics:\")\n",
    "    return {k: np.mean(v) for k, v in all_metrics.items()}"
   ]
  },
  {
   "cell_type": "code",
   "execution_count": 10,
   "id": "eb7bac8e-61e5-4f2d-9354-c533c7895edc",
   "metadata": {
    "scrolled": true
   },
   "outputs": [
    {
     "name": "stdout",
     "output_type": "stream",
     "text": [
      "▶️ Evaluating Beauty\n",
      "['data/UVG/Beauty/images/frame_0001.png', 'data/UVG/Beauty/images/frame_0003.png', 'data/UVG/Beauty/images/frame_0005.png', 'data/UVG/Beauty/images/frame_0007.png', 'data/UVG/Beauty/images/frame_0009.png', 'data/UVG/Beauty/images/frame_0011.png', 'data/UVG/Beauty/images/frame_0013.png', 'data/UVG/Beauty/images/frame_0015.png', 'data/UVG/Beauty/images/frame_0017.png', 'data/UVG/Beauty/images/frame_0019.png'] 48 10\n",
      "✅ Metrics: {'PSNR': 27.872452354431154, 'MS-SSIM': 0.917842036485672, 'LPIPS': 0.11427011787891388, 'FID': 1.0486811399459839, 'FVD': 652912.0873239608}\n",
      "▶️ Evaluating Bosphorus\n",
      "['data/UVG/Bosphorus/images/frame_0001.png', 'data/UVG/Bosphorus/images/frame_0003.png', 'data/UVG/Bosphorus/images/frame_0005.png', 'data/UVG/Bosphorus/images/frame_0007.png', 'data/UVG/Bosphorus/images/frame_0009.png', 'data/UVG/Bosphorus/images/frame_0011.png', 'data/UVG/Bosphorus/images/frame_0013.png', 'data/UVG/Bosphorus/images/frame_0015.png', 'data/UVG/Bosphorus/images/frame_0017.png', 'data/UVG/Bosphorus/images/frame_0019.png'] 48 10\n",
      "✅ Metrics: {'PSNR': 24.805432319641113, 'MS-SSIM': 0.8975312948226929, 'LPIPS': 0.1757098078727722, 'FID': 2.471402883529663, 'FVD': 1528487.8164442016}\n",
      "▶️ Evaluating HoneyBee\n",
      "['data/UVG/HoneyBee/images/frame_0001.png', 'data/UVG/HoneyBee/images/frame_0003.png', 'data/UVG/HoneyBee/images/frame_0005.png', 'data/UVG/HoneyBee/images/frame_0007.png', 'data/UVG/HoneyBee/images/frame_0009.png', 'data/UVG/HoneyBee/images/frame_0011.png', 'data/UVG/HoneyBee/images/frame_0013.png', 'data/UVG/HoneyBee/images/frame_0015.png', 'data/UVG/HoneyBee/images/frame_0017.png', 'data/UVG/HoneyBee/images/frame_0019.png'] 48 10\n",
      "✅ Metrics: {'PSNR': 20.87516269683838, 'MS-SSIM': 0.8265357911586761, 'LPIPS': 0.22648122757673264, 'FID': 5.4412360191345215, 'FVD': 11657972.163193341}\n",
      "▶️ Evaluating Jockey\n",
      "['data/UVG/Jockey/images/frame_0001.png', 'data/UVG/Jockey/images/frame_0003.png', 'data/UVG/Jockey/images/frame_0005.png', 'data/UVG/Jockey/images/frame_0007.png', 'data/UVG/Jockey/images/frame_0009.png', 'data/UVG/Jockey/images/frame_0011.png', 'data/UVG/Jockey/images/frame_0013.png', 'data/UVG/Jockey/images/frame_0015.png', 'data/UVG/Jockey/images/frame_0017.png', 'data/UVG/Jockey/images/frame_0019.png'] 48 10\n",
      "✅ Metrics: {'PSNR': 21.463118743896484, 'MS-SSIM': 0.7947944223880767, 'LPIPS': 0.21540715545415878, 'FID': 1.452873706817627, 'FVD': 1553191.0073125362}\n",
      "▶️ Evaluating ReadySteadyGo\n",
      "['data/UVG/ReadySteadyGo/images/frame_0001.png', 'data/UVG/ReadySteadyGo/images/frame_0003.png', 'data/UVG/ReadySteadyGo/images/frame_0005.png', 'data/UVG/ReadySteadyGo/images/frame_0007.png', 'data/UVG/ReadySteadyGo/images/frame_0009.png', 'data/UVG/ReadySteadyGo/images/frame_0011.png', 'data/UVG/ReadySteadyGo/images/frame_0013.png', 'data/UVG/ReadySteadyGo/images/frame_0015.png', 'data/UVG/ReadySteadyGo/images/frame_0017.png', 'data/UVG/ReadySteadyGo/images/frame_0019.png'] 48 10\n",
      "✅ Metrics: {'PSNR': 20.003097534179688, 'MS-SSIM': 0.8329340517520905, 'LPIPS': 0.21720341742038726, 'FID': 1.6185295581817627, 'FVD': 10996725.274457779}\n",
      "▶️ Evaluating ShakeNDry\n",
      "['data/UVG/ShakeNDry/images/frame_0001.png', 'data/UVG/ShakeNDry/images/frame_0003.png', 'data/UVG/ShakeNDry/images/frame_0005.png', 'data/UVG/ShakeNDry/images/frame_0007.png', 'data/UVG/ShakeNDry/images/frame_0009.png', 'data/UVG/ShakeNDry/images/frame_0011.png', 'data/UVG/ShakeNDry/images/frame_0013.png', 'data/UVG/ShakeNDry/images/frame_0015.png', 'data/UVG/ShakeNDry/images/frame_0017.png', 'data/UVG/ShakeNDry/images/frame_0019.png'] 48 10\n",
      "✅ Metrics: {'PSNR': 21.347701835632325, 'MS-SSIM': 0.7998176217079163, 'LPIPS': 0.2812759935855865, 'FID': 3.068549871444702, 'FVD': 658659.546318322}\n",
      "▶️ Evaluating YachtRide\n",
      "['data/UVG/YachtRide/images/frame_0001.png', 'data/UVG/YachtRide/images/frame_0003.png', 'data/UVG/YachtRide/images/frame_0005.png', 'data/UVG/YachtRide/images/frame_0007.png', 'data/UVG/YachtRide/images/frame_0009.png', 'data/UVG/YachtRide/images/frame_0011.png', 'data/UVG/YachtRide/images/frame_0013.png', 'data/UVG/YachtRide/images/frame_0015.png', 'data/UVG/YachtRide/images/frame_0017.png', 'data/UVG/YachtRide/images/frame_0019.png'] 48 10\n",
      "✅ Metrics: {'PSNR': 23.793724250793456, 'MS-SSIM': 0.888248598575592, 'LPIPS': 0.18883992582559586, 'FID': 1.7636971473693848, 'FVD': 2273850.6232653754}\n",
      "❌ Skipping all_videos_metrics_2_q4.json (missing folders)\n",
      "\n",
      "📊 Mean Metrics:\n"
     ]
    },
    {
     "data": {
      "text/plain": [
       "{'PSNR': 22.88009853363037,\n",
       " 'MS-SSIM': 0.8511005452701024,\n",
       " 'LPIPS': 0.20274109223059247,\n",
       " 'FID': 2.409281475203378,\n",
       " 'FVD': 4188828.3597593596,\n",
       " 'bpp': 0.018683127571924606}"
      ]
     },
     "execution_count": 10,
     "metadata": {},
     "output_type": "execute_result"
    }
   ],
   "source": [
    "evaluate_all_videos_uni('data/UVG/', 'experiments/bi_warp_v3/preds_170k_gop2_q4' , gop=2, warp=True,mode=2)"
   ]
  },
  {
   "cell_type": "code",
   "execution_count": 16,
   "id": "7ad0bea2-a6f7-48c5-aa71-54d2979e904e",
   "metadata": {},
   "outputs": [
    {
     "data": {
      "text/html": [
       "<div>\n",
       "<style scoped>\n",
       "    .dataframe tbody tr th:only-of-type {\n",
       "        vertical-align: middle;\n",
       "    }\n",
       "\n",
       "    .dataframe tbody tr th {\n",
       "        vertical-align: top;\n",
       "    }\n",
       "\n",
       "    .dataframe thead th {\n",
       "        text-align: right;\n",
       "    }\n",
       "</style>\n",
       "<table border=\"1\" class=\"dataframe\">\n",
       "  <thead>\n",
       "    <tr style=\"text-align: right;\">\n",
       "      <th></th>\n",
       "      <th>Unnamed: 0</th>\n",
       "      <th>PSNR</th>\n",
       "      <th>MS-SSIM</th>\n",
       "      <th>LPIPS</th>\n",
       "      <th>FID</th>\n",
       "      <th>FVD</th>\n",
       "      <th>bpp</th>\n",
       "      <th>CRF</th>\n",
       "    </tr>\n",
       "  </thead>\n",
       "  <tbody>\n",
       "    <tr>\n",
       "      <th>0</th>\n",
       "      <td>0</td>\n",
       "      <td>22.415098</td>\n",
       "      <td>0.836580</td>\n",
       "      <td>0.219988</td>\n",
       "      <td>2.859836</td>\n",
       "      <td>8.761226e+06</td>\n",
       "      <td>0.018683</td>\n",
       "      <td>1</td>\n",
       "    </tr>\n",
       "    <tr>\n",
       "      <th>1</th>\n",
       "      <td>1</td>\n",
       "      <td>22.205788</td>\n",
       "      <td>0.834254</td>\n",
       "      <td>0.213194</td>\n",
       "      <td>2.528050</td>\n",
       "      <td>9.929832e+06</td>\n",
       "      <td>0.018683</td>\n",
       "      <td>4</td>\n",
       "    </tr>\n",
       "  </tbody>\n",
       "</table>\n",
       "</div>"
      ],
      "text/plain": [
       "   Unnamed: 0       PSNR   MS-SSIM     LPIPS       FID           FVD  \\\n",
       "0           0  22.415098  0.836580  0.219988  2.859836  8.761226e+06   \n",
       "1           1  22.205788  0.834254  0.213194  2.528050  9.929832e+06   \n",
       "\n",
       "        bpp  CRF  \n",
       "0  0.018683    1  \n",
       "1  0.018683    4  "
      ]
     },
     "execution_count": 16,
     "metadata": {},
     "output_type": "execute_result"
    }
   ],
   "source": [
    "df = pd.read_csv('metrics/bi_warp_inter.csv')\n",
    "\n",
    "df"
   ]
  },
  {
   "cell_type": "code",
   "execution_count": 17,
   "id": "87f06b93-9d8d-4585-abbd-e48ca3890505",
   "metadata": {},
   "outputs": [],
   "source": [
    "df.iloc[1] = {'PSNR': 22.88009853363037,\n",
    " 'MS-SSIM': 0.8511005452701024,\n",
    " 'LPIPS': 0.20274109223059247,\n",
    " 'FID': 2.409281475203378,\n",
    " 'FVD': 4188828.3597593596,\n",
    " 'bpp': 0.018683127571924606 ,'CRF': 4}"
   ]
  },
  {
   "cell_type": "code",
   "execution_count": 18,
   "id": "ccd21ede-c194-44cb-b7f5-84f8e79ab806",
   "metadata": {},
   "outputs": [
    {
     "data": {
      "text/html": [
       "<div>\n",
       "<style scoped>\n",
       "    .dataframe tbody tr th:only-of-type {\n",
       "        vertical-align: middle;\n",
       "    }\n",
       "\n",
       "    .dataframe tbody tr th {\n",
       "        vertical-align: top;\n",
       "    }\n",
       "\n",
       "    .dataframe thead th {\n",
       "        text-align: right;\n",
       "    }\n",
       "</style>\n",
       "<table border=\"1\" class=\"dataframe\">\n",
       "  <thead>\n",
       "    <tr style=\"text-align: right;\">\n",
       "      <th></th>\n",
       "      <th>Unnamed: 0</th>\n",
       "      <th>PSNR</th>\n",
       "      <th>MS-SSIM</th>\n",
       "      <th>LPIPS</th>\n",
       "      <th>FID</th>\n",
       "      <th>FVD</th>\n",
       "      <th>bpp</th>\n",
       "      <th>CRF</th>\n",
       "    </tr>\n",
       "  </thead>\n",
       "  <tbody>\n",
       "    <tr>\n",
       "      <th>0</th>\n",
       "      <td>0.0</td>\n",
       "      <td>22.415098</td>\n",
       "      <td>0.836580</td>\n",
       "      <td>0.219988</td>\n",
       "      <td>2.859836</td>\n",
       "      <td>8.761226e+06</td>\n",
       "      <td>0.018683</td>\n",
       "      <td>1</td>\n",
       "    </tr>\n",
       "    <tr>\n",
       "      <th>1</th>\n",
       "      <td>NaN</td>\n",
       "      <td>22.880099</td>\n",
       "      <td>0.851101</td>\n",
       "      <td>0.202741</td>\n",
       "      <td>2.409281</td>\n",
       "      <td>4.188828e+06</td>\n",
       "      <td>0.018683</td>\n",
       "      <td>4</td>\n",
       "    </tr>\n",
       "  </tbody>\n",
       "</table>\n",
       "</div>"
      ],
      "text/plain": [
       "   Unnamed: 0       PSNR   MS-SSIM     LPIPS       FID           FVD  \\\n",
       "0         0.0  22.415098  0.836580  0.219988  2.859836  8.761226e+06   \n",
       "1         NaN  22.880099  0.851101  0.202741  2.409281  4.188828e+06   \n",
       "\n",
       "        bpp  CRF  \n",
       "0  0.018683    1  \n",
       "1  0.018683    4  "
      ]
     },
     "execution_count": 18,
     "metadata": {},
     "output_type": "execute_result"
    }
   ],
   "source": [
    "df"
   ]
  },
  {
   "cell_type": "code",
   "execution_count": 19,
   "id": "82dba757-2913-4ccf-be64-a078065dc9bd",
   "metadata": {},
   "outputs": [],
   "source": [
    "df.to_csv('metrics/bi_warp_inter.csv')"
   ]
  },
  {
   "cell_type": "code",
   "execution_count": null,
   "id": "51a92a35-d2f7-4199-954b-f856968e0ffb",
   "metadata": {},
   "outputs": [],
   "source": []
  }
 ],
 "metadata": {
  "kernelspec": {
   "display_name": "Python Unicontrolwrap",
   "language": "python",
   "name": "unicontrolwrap"
  },
  "language_info": {
   "codemirror_mode": {
    "name": "ipython",
    "version": 3
   },
   "file_extension": ".py",
   "mimetype": "text/x-python",
   "name": "python",
   "nbconvert_exporter": "python",
   "pygments_lexer": "ipython3",
   "version": "3.8.5"
  }
 },
 "nbformat": 4,
 "nbformat_minor": 5
}
