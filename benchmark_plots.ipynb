{
 "cells": [
  {
   "cell_type": "code",
   "execution_count": 4,
   "id": "06536e6b-b879-4b6c-a0ce-aea522638630",
   "metadata": {},
   "outputs": [],
   "source": [
    "import pandas as pd\n",
    "import numpy as np\n",
    "import matplotlib.pyplot as plt\n",
    "import os\n",
    "# Define the filename\n",
    "filename = 'benchmark_results/results_gop4_inter.npy'\n",
    "data = np.load(filename, allow_pickle=True).item()\n",
    "# print(data)\n",
    "videos = ['Beauty', 'Bosphorus', 'ShakeNDry', 'HoneyBee','Jockey', 'ReadySteadyGo', 'YachtRide']\n",
    "video_df= []\n",
    "for video in videos:\n",
    "    video_df.append(pd.DataFrame(data[video]) )\n",
    "    \n",
    "metrics = pd.concat(video_df).groupby(level=0)[['bpp_inter', 'LPIPS', 'MS-SSIM','PSNR','FID']].mean()\n",
    "ours = metrics.iloc[4:]\n",
    "hevc = metrics.iloc[0:4]"
   ]
  },
  {
   "cell_type": "code",
   "execution_count": 5,
   "id": "21151a33-dc78-491d-8717-f37f1fa88a15",
   "metadata": {},
   "outputs": [
    {
     "data": {
      "text/html": [
       "<div>\n",
       "<style scoped>\n",
       "    .dataframe tbody tr th:only-of-type {\n",
       "        vertical-align: middle;\n",
       "    }\n",
       "\n",
       "    .dataframe tbody tr th {\n",
       "        vertical-align: top;\n",
       "    }\n",
       "\n",
       "    .dataframe thead th {\n",
       "        text-align: right;\n",
       "    }\n",
       "</style>\n",
       "<table border=\"1\" class=\"dataframe\">\n",
       "  <thead>\n",
       "    <tr style=\"text-align: right;\">\n",
       "      <th></th>\n",
       "      <th>bpp_inter</th>\n",
       "      <th>LPIPS</th>\n",
       "      <th>MS-SSIM</th>\n",
       "      <th>PSNR</th>\n",
       "      <th>FID</th>\n",
       "    </tr>\n",
       "  </thead>\n",
       "  <tbody>\n",
       "    <tr>\n",
       "      <th>4</th>\n",
       "      <td>0.007142</td>\n",
       "      <td>0.106987</td>\n",
       "      <td>0.879951</td>\n",
       "      <td>23.826525</td>\n",
       "      <td>1.329397</td>\n",
       "    </tr>\n",
       "    <tr>\n",
       "      <th>5</th>\n",
       "      <td>0.006269</td>\n",
       "      <td>0.106955</td>\n",
       "      <td>0.879959</td>\n",
       "      <td>23.827501</td>\n",
       "      <td>1.326203</td>\n",
       "    </tr>\n",
       "    <tr>\n",
       "      <th>6</th>\n",
       "      <td>0.005952</td>\n",
       "      <td>0.107067</td>\n",
       "      <td>0.879882</td>\n",
       "      <td>23.826249</td>\n",
       "      <td>1.323439</td>\n",
       "    </tr>\n",
       "  </tbody>\n",
       "</table>\n",
       "</div>"
      ],
      "text/plain": [
       "   bpp_inter     LPIPS   MS-SSIM       PSNR       FID\n",
       "4   0.007142  0.106987  0.879951  23.826525  1.329397\n",
       "5   0.006269  0.106955  0.879959  23.827501  1.326203\n",
       "6   0.005952  0.107067  0.879882  23.826249  1.323439"
      ]
     },
     "execution_count": 5,
     "metadata": {},
     "output_type": "execute_result"
    }
   ],
   "source": [
    "ours"
   ]
  },
  {
   "cell_type": "code",
   "execution_count": 7,
   "id": "9050737d-b237-4aea-b609-e2e51dabefd1",
   "metadata": {},
   "outputs": [
    {
     "name": "stdout",
     "output_type": "stream",
     "text": [
      "Successfully saved 4 plots in the 'benchmark_results/gop4_plots' directory.\n"
     ]
    }
   ],
   "source": [
    "# 1. Prepare data and create the output folder\n",
    "df = hevc.sort_values('bpp_total')\n",
    "highlight_point = ours\n",
    "output_folder = 'benchmark_results/gop4_plots'\n",
    "os.makedirs(output_folder, exist_ok=True) # Creates the folder if it doesn't exist\n",
    "\n",
    "# 2. Define the columns for plotting\n",
    "x_col = 'bpp_total'\n",
    "y_cols = ['LPIPS', 'PSNR', 'MS-SSIM', 'FID']\n",
    "\n",
    "# 3. Loop through each metric to create and save a separate plot\n",
    "for y_col in y_cols:\n",
    "    # Create a new, single figure for each iteration\n",
    "    fig, ax = plt.subplots(figsize=(8, 6))\n",
    "\n",
    "    # Plot the original data points on the new axis\n",
    "    ax.plot(df[x_col], df[y_col], label='HEVC Inter Bpp')\n",
    "\n",
    "    # Plot your specific point on top\n",
    "    ax.plot(highlight_point[x_col], highlight_point[y_col],\n",
    "               color='red',\n",
    "               # marker='*',\n",
    "               # s=250,\n",
    "               # zorder=5,\n",
    "               label='BiFCA Inter Bpp')\n",
    "\n",
    "    # Set titles, labels, and legend\n",
    "    ax.set_title(f'{y_col.upper()} vs {x_col.upper()}', fontsize=16)\n",
    "    ax.set_xlabel(x_col.upper(), fontsize=12)\n",
    "    ax.set_ylabel(y_col.upper(), fontsize=12)\n",
    "    ax.grid(True, linestyle='--', alpha=0.6)\n",
    "    ax.legend()\n",
    "\n",
    "    # Define the full path and save the figure\n",
    "    filename = f\"{y_col}_vs_{x_col}.svg\"\n",
    "    full_path = os.path.join(output_folder, filename)\n",
    "    plt.savefig(full_path, format='svg', dpi=800)\n",
    "\n",
    "    # Close the figure to free up memory before the next loop\n",
    "    plt.close(fig)\n",
    "\n",
    "print(f\"Successfully saved 4 plots in the '{output_folder}' directory.\")"
   ]
  },
  {
   "cell_type": "code",
   "execution_count": 20,
   "id": "861b24ec",
   "metadata": {},
   "outputs": [
    {
     "name": "stdout",
     "output_type": "stream",
     "text": [
      "benchmark_results/hevc_gop4_new/Beauty/bpp_0.1/intra_inter_storage.txt\n",
      "benchmark_results/hevc_gop4_new/Beauty/bpp_0.05/intra_inter_storage.txt\n",
      "benchmark_results/hevc_gop4_new/Beauty/bpp_0.006/intra_inter_storage.txt\n",
      "benchmark_results/hevc_gop4_new/Beauty/bpp_0.01/intra_inter_storage.txt\n",
      "benchmark_results/hevc_gop4_new/Bosphorus/bpp_0.1/intra_inter_storage.txt\n",
      "benchmark_results/hevc_gop4_new/Bosphorus/bpp_0.05/intra_inter_storage.txt\n",
      "benchmark_results/hevc_gop4_new/Bosphorus/bpp_0.006/intra_inter_storage.txt\n",
      "benchmark_results/hevc_gop4_new/Bosphorus/bpp_0.01/intra_inter_storage.txt\n",
      "benchmark_results/hevc_gop4_new/HoneyBee/bpp_0.1/intra_inter_storage.txt\n",
      "benchmark_results/hevc_gop4_new/HoneyBee/bpp_0.05/intra_inter_storage.txt\n",
      "benchmark_results/hevc_gop4_new/HoneyBee/bpp_0.006/intra_inter_storage.txt\n",
      "benchmark_results/hevc_gop4_new/HoneyBee/bpp_0.01/intra_inter_storage.txt\n",
      "benchmark_results/hevc_gop4_new/YachtRide/bpp_0.1/intra_inter_storage.txt\n",
      "benchmark_results/hevc_gop4_new/YachtRide/bpp_0.05/intra_inter_storage.txt\n",
      "benchmark_results/hevc_gop4_new/YachtRide/bpp_0.006/intra_inter_storage.txt\n",
      "benchmark_results/hevc_gop4_new/YachtRide/bpp_0.01/intra_inter_storage.txt\n",
      "benchmark_results/hevc_gop4_new/ReadySteadyGo/bpp_0.1/intra_inter_storage.txt\n",
      "benchmark_results/hevc_gop4_new/ReadySteadyGo/bpp_0.05/intra_inter_storage.txt\n",
      "benchmark_results/hevc_gop4_new/ReadySteadyGo/bpp_0.006/intra_inter_storage.txt\n",
      "benchmark_results/hevc_gop4_new/ReadySteadyGo/bpp_0.01/intra_inter_storage.txt\n",
      "benchmark_results/hevc_gop4_new/ShakeNDry/bpp_0.1/intra_inter_storage.txt\n",
      "benchmark_results/hevc_gop4_new/ShakeNDry/bpp_0.05/intra_inter_storage.txt\n",
      "benchmark_results/hevc_gop4_new/ShakeNDry/bpp_0.006/intra_inter_storage.txt\n",
      "benchmark_results/hevc_gop4_new/ShakeNDry/bpp_0.01/intra_inter_storage.txt\n",
      "benchmark_results/hevc_gop4_new/Jockey/bpp_0.1/intra_inter_storage.txt\n",
      "benchmark_results/hevc_gop4_new/Jockey/bpp_0.05/intra_inter_storage.txt\n",
      "benchmark_results/hevc_gop4_new/Jockey/bpp_0.006/intra_inter_storage.txt\n",
      "benchmark_results/hevc_gop4_new/Jockey/bpp_0.01/intra_inter_storage.txt\n"
     ]
    }
   ],
   "source": [
    "import os\n",
    "import pandas as pd\n",
    "from pathlib import Path\n",
    "\n",
    "def read_compression_report(file_path):\n",
    "    try:\n",
    "        with open(file_path, 'r') as file:\n",
    "            data = {'Intra bytes': 0, 'Inter bytes': 0, 'Total bytes': 0}\n",
    "            for line in file:\n",
    "                line = line.strip()\n",
    "                if line.startswith('Intra bytes:'):\n",
    "                    data['Intra bytes'] = int(line.split(': ')[1])\n",
    "                elif line.startswith('Inter bytes:'):\n",
    "                    data['Inter bytes'] = int(line.split(': ')[1])\n",
    "                elif line.startswith('Total bytes:'):\n",
    "                    data['Total bytes'] = int(line.split(': ')[1])\n",
    "        return data\n",
    "    except FileNotFoundError:\n",
    "        print(f\"File not found: {file_path}\")\n",
    "        return None\n",
    "    except Exception as e:\n",
    "        print(f\"Error reading {file_path}: {e}\")\n",
    "        return None\n",
    "\n",
    "\n",
    "base_path = Path('hevc_class_b_gop4')\n",
    "videos =  [d for d in base_path.iterdir() if d.is_dir()]\n",
    "rows =[]\n",
    "for video in videos:\n",
    "    bpps = os.listdir(video)\n",
    "    for bpp in bpps:\n",
    "        file_path = video / bpp / 'intra_inter_storage.txt'\n",
    "        print(file_path)\n",
    "        data = read_compression_report(file_path)\n",
    "        data[\"Video\"] = video.stem\n",
    "        data['bpp'] = bpp.split('bpp_')[1]\n",
    "        rows.append(data)"
   ]
  },
  {
   "cell_type": "code",
   "execution_count": 21,
   "id": "2a6676fe-175e-4796-aa9d-62e725e1737a",
   "metadata": {},
   "outputs": [],
   "source": [
    "df = pd.DataFrame(rows)"
   ]
  },
  {
   "cell_type": "code",
   "execution_count": 22,
   "id": "2c14969a-9bc3-43ad-8e7e-a01f32e261ff",
   "metadata": {},
   "outputs": [
    {
     "name": "stdout",
     "output_type": "stream",
     "text": [
      "{'inter': {'Beauty': [14274, 25046, 202156, 359468], 'Bosphorus': [6302, 7627, 20080, 46135], 'HoneyBee': [5835, 5921, 11910, 20815], 'YachtRide': [10983, 15318, 135414, 408250], 'ReadySteadyGo': [19096, 15802, 58908, 137989], 'ShakeNDry': [8853, 10407, 77770, 381155], 'Jockey': [23276, 31554, 210572, 458851]}, 'intra': {'Beauty': [111217, 154065, 638052, 1530754], 'Bosphorus': [161389, 221594, 852442, 1662727], 'HoneyBee': [229275, 275556, 862427, 1643954], 'YachtRide': [169022, 227813, 826756, 1492341], 'ReadySteadyGo': [284820, 297002, 847547, 1526334], 'ShakeNDry': [225178, 277665, 877355, 1485597], 'Jockey': [172028, 229147, 770061, 1244686]}}\n"
     ]
    }
   ],
   "source": [
    "# Initialize the dictionary\n",
    "hevc_bits_gop4 = {'inter': {}, 'intra': {}}\n",
    "videos = df['Video'].unique()\n",
    "bpp_dict = [0.006, 0.01, 0.05, 0.1]\n",
    "\n",
    "# Populate the dictionary\n",
    "for video in videos:\n",
    "    hevc_bits_gop4['inter'][video] = []\n",
    "    hevc_bits_gop4['intra'][video] = []\n",
    "    for bpp in bpp_dict:\n",
    "        row = df[(df['Video'] == video) & (df['bpp'] == str(bpp))]\n",
    "        if not row.empty:\n",
    "            hevc_bits_gop4['inter'][video].append(row['Inter bytes'].iloc[0])\n",
    "            hevc_bits_gop4['intra'][video].append(row['Intra bytes'].iloc[0])\n",
    "        else:\n",
    "            hevc_bits_gop4['inter'][video].append(0)\n",
    "            hevc_bits_gop4['intra'][video].append(0)\n",
    "\n",
    "# Print updated dictionary\n",
    "print(hevc_bits_gop4)"
   ]
  }
 ],
 "metadata": {
  "kernelspec": {
   "display_name": "Python 3 (ipykernel)",
   "language": "python",
   "name": "python3"
  },
  "language_info": {
   "codemirror_mode": {
    "name": "ipython",
    "version": 3
   },
   "file_extension": ".py",
   "mimetype": "text/x-python",
   "name": "python",
   "nbconvert_exporter": "python",
   "pygments_lexer": "ipython3",
   "version": "3.8.5"
  }
 },
 "nbformat": 4,
 "nbformat_minor": 5
}
