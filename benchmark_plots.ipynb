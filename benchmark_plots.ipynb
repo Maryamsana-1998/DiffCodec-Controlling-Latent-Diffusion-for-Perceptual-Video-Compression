{
 "cells": [
  {
   "cell_type": "code",
   "execution_count": 14,
   "id": "06536e6b-b879-4b6c-a0ce-aea522638630",
   "metadata": {},
   "outputs": [],
   "source": [
    "import pandas as pd\n",
    "import numpy as np\n",
    "import matplotlib.pyplot as plt\n",
    "import os\n",
    "# Define the filename\n",
    "filename = 'benchmark_results/results_gop4_all.npy'\n",
    "data = np.load(filename, allow_pickle=True).item()\n",
    "# print(data)\n",
    "videos = ['Beauty', 'Bosphorus', 'ShakeNDry', 'HoneyBee']\n",
    "video_df= []\n",
    "for video in videos:\n",
    "    video_df.append(pd.DataFrame(data[video]) )\n",
    "    \n",
    "metrics = pd.concat(video_df).groupby(level=0)[['bpp_total', 'LPIPS', 'MS-SSIM','PSNR','FID']].mean()\n",
    "ours = metrics.iloc[3]\n",
    "hevc = metrics.iloc[0:3]"
   ]
  },
  {
   "cell_type": "code",
   "execution_count": 15,
   "id": "a9fd6108",
   "metadata": {},
   "outputs": [
    {
     "data": {
      "text/html": [
       "<div>\n",
       "<style scoped>\n",
       "    .dataframe tbody tr th:only-of-type {\n",
       "        vertical-align: middle;\n",
       "    }\n",
       "\n",
       "    .dataframe tbody tr th {\n",
       "        vertical-align: top;\n",
       "    }\n",
       "\n",
       "    .dataframe thead th {\n",
       "        text-align: right;\n",
       "    }\n",
       "</style>\n",
       "<table border=\"1\" class=\"dataframe\">\n",
       "  <thead>\n",
       "    <tr style=\"text-align: right;\">\n",
       "      <th></th>\n",
       "      <th>bpp_total</th>\n",
       "      <th>LPIPS</th>\n",
       "      <th>MS-SSIM</th>\n",
       "      <th>PSNR</th>\n",
       "      <th>FID</th>\n",
       "    </tr>\n",
       "  </thead>\n",
       "  <tbody>\n",
       "    <tr>\n",
       "      <th>0</th>\n",
       "      <td>0.071793</td>\n",
       "      <td>0.172009</td>\n",
       "      <td>0.519844</td>\n",
       "      <td>19.035756</td>\n",
       "      <td>0.126678</td>\n",
       "    </tr>\n",
       "    <tr>\n",
       "      <th>1</th>\n",
       "      <td>0.007590</td>\n",
       "      <td>0.285259</td>\n",
       "      <td>0.526165</td>\n",
       "      <td>19.305426</td>\n",
       "      <td>3.445072</td>\n",
       "    </tr>\n",
       "    <tr>\n",
       "      <th>2</th>\n",
       "      <td>0.035640</td>\n",
       "      <td>0.180855</td>\n",
       "      <td>0.519994</td>\n",
       "      <td>19.061348</td>\n",
       "      <td>0.218753</td>\n",
       "    </tr>\n",
       "  </tbody>\n",
       "</table>\n",
       "</div>"
      ],
      "text/plain": [
       "   bpp_total     LPIPS   MS-SSIM       PSNR       FID\n",
       "0   0.071793  0.172009  0.519844  19.035756  0.126678\n",
       "1   0.007590  0.285259  0.526165  19.305426  3.445072\n",
       "2   0.035640  0.180855  0.519994  19.061348  0.218753"
      ]
     },
     "execution_count": 15,
     "metadata": {},
     "output_type": "execute_result"
    }
   ],
   "source": [
    "hevc"
   ]
  },
  {
   "cell_type": "code",
   "execution_count": 16,
   "id": "9050737d-b237-4aea-b609-e2e51dabefd1",
   "metadata": {},
   "outputs": [
    {
     "name": "stdout",
     "output_type": "stream",
     "text": [
      "Successfully saved 4 plots in the 'benchmark_results/gop4_plots' directory.\n"
     ]
    }
   ],
   "source": [
    "# --- Create placeholder data (REPLACE with your actual 'hevc' and 'ours' DataFrames) ---\n",
    "# This makes the script runnable for demonstration.\n",
    "\n",
    "hevc = pd.DataFrame(hevc)\n",
    "ours = pd.Series(ours)\n",
    "# --- End of placeholder data ---\n",
    "\n",
    "\n",
    "# 1. Prepare data and create the output folder\n",
    "df = hevc.sort_values('bpp_total')\n",
    "highlight_point = ours\n",
    "output_folder = 'benchmark_results/gop4_plots'\n",
    "os.makedirs(output_folder, exist_ok=True) # Creates the folder if it doesn't exist\n",
    "\n",
    "# 2. Define the columns for plotting\n",
    "x_col = 'bpp_total'\n",
    "y_cols = ['LPIPS', 'PSNR', 'MS-SSIM', 'FID']\n",
    "\n",
    "# 3. Loop through each metric to create and save a separate plot\n",
    "for y_col in y_cols:\n",
    "    # Create a new, single figure for each iteration\n",
    "    fig, ax = plt.subplots(figsize=(8, 6))\n",
    "\n",
    "    # Plot the original data points on the new axis\n",
    "    ax.plot(df[x_col], df[y_col], label='HEVC Total Bpp')\n",
    "\n",
    "    # Plot your specific point on top\n",
    "    ax.scatter(highlight_point[x_col], highlight_point[y_col],\n",
    "               color='red',\n",
    "               marker='*',\n",
    "               s=250,\n",
    "               zorder=5,\n",
    "               label='BiFCA Inter Prediction')\n",
    "\n",
    "    # Set titles, labels, and legend\n",
    "    ax.set_title(f'{y_col.upper()} vs {x_col.upper()}', fontsize=16)\n",
    "    ax.set_xlabel(x_col.upper(), fontsize=12)\n",
    "    ax.set_ylabel(y_col.upper(), fontsize=12)\n",
    "    ax.grid(True, linestyle='--', alpha=0.6)\n",
    "    ax.legend()\n",
    "\n",
    "    # Define the full path and save the figure\n",
    "    filename = f\"{y_col}_vs_{x_col}.svg\"\n",
    "    full_path = os.path.join(output_folder, filename)\n",
    "    plt.savefig(full_path, format='svg', dpi=800)\n",
    "\n",
    "    # Close the figure to free up memory before the next loop\n",
    "    plt.close(fig)\n",
    "\n",
    "print(f\"Successfully saved 4 plots in the '{output_folder}' directory.\")"
   ]
  },
  {
   "cell_type": "code",
   "execution_count": null,
   "id": "861b24ec",
   "metadata": {},
   "outputs": [],
   "source": []
  }
 ],
 "metadata": {
  "kernelspec": {
   "display_name": "diffusers_env",
   "language": "python",
   "name": "python3"
  },
  "language_info": {
   "codemirror_mode": {
    "name": "ipython",
    "version": 3
   },
   "file_extension": ".py",
   "mimetype": "text/x-python",
   "name": "python",
   "nbconvert_exporter": "python",
   "pygments_lexer": "ipython3",
   "version": "3.10.18"
  }
 },
 "nbformat": 4,
 "nbformat_minor": 5
}
