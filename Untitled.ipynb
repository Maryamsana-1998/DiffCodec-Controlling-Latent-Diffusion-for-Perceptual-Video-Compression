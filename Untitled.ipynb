{
 "cells": [
  {
   "cell_type": "code",
   "execution_count": 7,
   "id": "dad0206a-564d-43cf-ae10-aec4ccd80748",
   "metadata": {},
   "outputs": [],
   "source": [
    "import torch\n",
    "import torch.nn.functional as F\n",
    "import numpy as np\n",
    "from PIL import Image\n",
    "import torchvision.transforms.functional as TF\n",
    "\n",
    "from diffusers import (\n",
    "    AutoencoderKL,\n",
    "    UNet2DConditionModel,\n",
    "    UniPCMultistepScheduler,\n",
    ")\n",
    "from transformers import CLIPTextModel, CLIPTokenizer\n",
    "\n",
    "# your classes\n",
    "from flownet import DualFlowControlNet\n",
    "from pipeline import StableDiffusionDualFlowControlNetPipeline"
   ]
  },
  {
   "cell_type": "code",
   "execution_count": 2,
   "id": "87ec793f-092e-44d1-a237-c189303af19a",
   "metadata": {},
   "outputs": [],
   "source": [
    "# ---------------------------\n",
    "# Helpers: image & .flo loaders\n",
    "# ---------------------------\n",
    "def read_flo(path: str) -> np.ndarray:\n",
    "    \"\"\"Middlebury .flo → [H,W,2] float32 (pixel units).\"\"\"\n",
    "    with open(path, \"rb\") as f:\n",
    "        magic = np.fromfile(f, np.float32, 1)[0]\n",
    "        if magic != 202021.25:\n",
    "            raise ValueError(f\"Invalid .flo file: {path} (magic={magic})\")\n",
    "        w = int(np.fromfile(f, np.int32, 1)[0])\n",
    "        h = int(np.fromfile(f, np.int32, 1)[0])\n",
    "        data = np.fromfile(f, np.float32, 2 * w * h).reshape(h, w, 2)\n",
    "    return data\n",
    "\n",
    "def resize_flow_to(flow_hw2: np.ndarray, target_h: int, target_w: int) -> torch.Tensor:\n",
    "    \"\"\"Resize flow with bilinear and scale vectors to remain in pixel units.\"\"\"\n",
    "    ft = torch.from_numpy(flow_hw2).permute(2, 0, 1).unsqueeze(0)  # [1,2,H,W]\n",
    "    _, _, H, W = ft.shape\n",
    "    ft = F.interpolate(ft, size=(target_h, target_w), mode=\"bilinear\", align_corners=True)\n",
    "    ft[:, 0] *= (target_w / max(W, 1))\n",
    "    ft[:, 1] *= (target_h / max(H, 1))\n",
    "    return ft  # [1,2,target_h,target_w]\n",
    "\n",
    "def load_pair_to_sixch(path0, path1, size=(512, 512)) -> torch.Tensor:\n",
    "    \"\"\"Two RGB images → [1,6,H,W] in [0,1].\"\"\"\n",
    "    def load_rgb(p):\n",
    "        img = Image.open(p).convert(\"RGB\")\n",
    "        if size is not None:\n",
    "            img = img.resize(size, Image.BICUBIC)\n",
    "        return TF.to_tensor(img)  # [3,H,W], float32\n",
    "    a = load_rgb(path0)\n",
    "    b = load_rgb(path1)\n",
    "    return torch.cat([a, b], dim=0).unsqueeze(0)  # [1,6,H,W]\n",
    "\n",
    "def load_controls_and_flows(\n",
    "    img0_path, img1_path, fwd_flo_path, bwd_flo_path, size=(512, 512), device=\"cuda\", dtype=torch.float32\n",
    "):\n",
    "    H, W = size\n",
    "    sixch = load_pair_to_sixch(img0_path, img1_path, size=size).to(device=device, dtype=dtype)  # [1,6,H,W]\n",
    "\n",
    "    fwd = read_flo(fwd_flo_path)\n",
    "    bwd = read_flo(bwd_flo_path)\n",
    "    fwd_t = resize_flow_to(fwd, H, W)\n",
    "    bwd_t = resize_flow_to(bwd, H, W)\n",
    "    flow4 = torch.cat([fwd_t, bwd_t], dim=1).to(device=device, dtype=dtype)  # [1,4,H,W]\n",
    "    return sixch, flow4\n"
   ]
  },
  {
   "cell_type": "code",
   "execution_count": 8,
   "id": "6a7cec58-3caa-456a-8002-0bfdf61031f5",
   "metadata": {},
   "outputs": [],
   "source": [
    "# ---------------------------\n",
    "# Load models (aligned SD-1.5)\n",
    "# ---------------------------\n",
    "device = \"cuda\"\n",
    "dtype  = torch.float32   # use fp32 until everything is stable; then you can flip to fp16 + upcast SoftSplat\n",
    "\n",
    "base = \"stable-diffusion-v1-5/stable-diffusion-v1-5\"\n",
    "\n",
    "vae = AutoencoderKL.from_pretrained(base, subfolder=\"vae\", torch_dtype=dtype)\n",
    "unet = UNet2DConditionModel.from_pretrained(base, subfolder=\"unet\", torch_dtype=dtype)\n",
    "text_encoder = CLIPTextModel.from_pretrained(base, subfolder=\"text_encoder\", torch_dtype=dtype)\n",
    "tokenizer = CLIPTokenizer.from_pretrained(base, subfolder=\"tokenizer\")\n",
    "scheduler = UniPCMultistepScheduler.from_pretrained(base, subfolder=\"scheduler\")\n",
    "\n",
    "# --- ControlNet: load your subclass weights ---\n",
    "# Option A: from a directory saved with save_pretrained()\n",
    "# controlnet = DualFlowControlNet.from_pretrained(\"path/to/dualflow-controlnet\", torch_dtype=dtype)\n",
    "\n",
    "# Option B: instantiate from UNet config and load a state dict\n",
    "controlnet = DualFlowControlNet(\n",
    "    block_out_channels=tuple(unet.config.block_out_channels),     # (320, 640, 1280, 1280)\n",
    "    layers_per_block=2,\n",
    "    cross_attention_dim=768,   \n",
    "    # make sure your ctor mirrors ControlNetModel signature you used during training,\n",
    "    # including down_block_types/layers_per_block if you exposed them.\n",
    ")\n",
    "# controlnet.load_state_dict(torch.load(\"path/to/controlnet.safetensors\" or \".pth\", map_location=\"cpu\"))\n",
    "\n",
    "# sanity: cross-attn dims must match (768 for SD1.x)\n",
    "assert unet.config.cross_attention_dim == text_encoder.config.hidden_size == 768\n",
    "if hasattr(controlnet, \"config\") and hasattr(controlnet.config, \"cross_attention_dim\"):\n",
    "    assert controlnet.config.cross_attention_dim == 768, f\"ControlNet CAD={controlnet.config.cross_attention_dim}\""
   ]
  },
  {
   "cell_type": "code",
   "execution_count": 9,
   "id": "941c3f6a-b17e-4b54-a22b-ccadb2008906",
   "metadata": {},
   "outputs": [
    {
     "name": "stdout",
     "output_type": "stream",
     "text": [
      "4\n",
      "[2, 2, 2, 2]\n",
      "len(self.controlnet_down_blocks): 12\n"
     ]
    }
   ],
   "source": [
    "print(len(controlnet.down_blocks))\n",
    "print([len(b.resnets) for b in controlnet.down_blocks])  # rough proxy of how many res samples each block returns\n",
    "# print(\"len(down_block_res_samples) at runtime:\", len(down_block_res_samples))\n",
    "print(\"len(self.controlnet_down_blocks):\", len(controlnet.controlnet_down_blocks))\n"
   ]
  },
  {
   "cell_type": "code",
   "execution_count": 4,
   "id": "1c98581e-8377-4a8c-a495-be9734cf0c56",
   "metadata": {},
   "outputs": [],
   "source": [
    "# ---------------------------\n",
    "# Build your custom pipeline\n",
    "# ---------------------------\n",
    "pipe = StableDiffusionDualFlowControlNetPipeline(\n",
    "    vae=vae,\n",
    "    text_encoder=text_encoder,\n",
    "    tokenizer=tokenizer,\n",
    "    unet=unet,\n",
    "    controlnet=controlnet,\n",
    "    scheduler=scheduler,\n",
    "    safety_checker=None,          # optional\n",
    "    feature_extractor=None,       # optional\n",
    "    image_encoder=None,\n",
    "    requires_safety_checker=False,\n",
    ").to(device)\n",
    "\n",
    "# Optional: try without xformers first; enable later if you want.\n",
    "# pipe.enable_xformers_memory_efficient_attention()\n",
    "\n",
    "for m in (pipe.unet, pipe.vae, pipe.text_encoder, pipe.controlnet):\n",
    "    m.eval()\n",
    "torch.set_grad_enabled(False)\n",
    "\n",
    "# ---------------------------\n",
    "# Load controls\n",
    "# ---------------------------\n",
    "sixch, flow4 = load_controls_and_flows(\n",
    "    \"data/Beauty/images/frame_0000.png\",\n",
    "    \"data/Beauty/images/frame_0002.png\",\n",
    "    \"data/Beauty/optical_flow/optical_flow_gop_2_raft/flow_0000_0001.flo\",\n",
    "    \"data/Beauty/optical_flow_bwd/optical_flow_gop_2_raft/flow_0002_0001.flo\",\n",
    "    size=(512, 512),\n",
    "    device=device,\n",
    "    dtype=dtype,\n",
    ")"
   ]
  },
  {
   "cell_type": "code",
   "execution_count": 6,
   "id": "94ad989c-e4e3-4ba0-88cc-455585b0ac54",
   "metadata": {},
   "outputs": [
    {
     "name": "stderr",
     "output_type": "stream",
     "text": [
      "100%|████████████████████████████████████████████████████████████████████████████████████████| 30/30 [00:05<00:00,  5.31it/s]\n"
     ]
    },
    {
     "name": "stdout",
     "output_type": "stream",
     "text": [
      "Saved: dualflow_cn_out.png\n"
     ]
    }
   ],
   "source": [
    "# ---------------------------\n",
    "# Inference\n",
    "# ---------------------------\n",
    "prompt = \"a pretty girl smiling , has pink lipstick and is infront of black background\"\n",
    "g = torch.Generator(device=device).manual_seed(42)  # reproducible latents\n",
    "\n",
    "out = pipe(\n",
    "    prompt=prompt,\n",
    "    controlnet_cond=sixch,         # [B,6,512,512]\n",
    "    flow_cond=flow4,               # [B,4,512,512]\n",
    "    height=512,\n",
    "    width=512,\n",
    "    num_inference_steps=30,\n",
    "    guidance_scale=7.5,\n",
    "    negative_prompt=None,\n",
    "    num_images_per_prompt=1,\n",
    "    generator=g,                   # used only for initial latents\n",
    "    controlnet_conditioning_scale=1.0,  # try 0.0 (baseline), 0.5, 1.0\n",
    "    guess_mode=False,\n",
    "    output_type=\"pil\",\n",
    "    return_dict=True,\n",
    ")\n",
    "\n",
    "img = out.images[0]\n",
    "img.save(\"dualflow_cn_out.png\")\n",
    "print(\"Saved: dualflow_cn_out.png\")\n"
   ]
  },
  {
   "cell_type": "code",
   "execution_count": 6,
   "id": "97b939ce-dd9e-4889-a534-b399ca5eff13",
   "metadata": {},
   "outputs": [],
   "source": [
    "outs = controlnet.feature_extractor(sixch,flow4)"
   ]
  },
  {
   "cell_type": "code",
   "execution_count": 7,
   "id": "50c3dcf0-404d-429e-83f5-28f8f5509643",
   "metadata": {},
   "outputs": [
    {
     "data": {
      "text/plain": [
       "Bi_Dir_FeatureExtractor(\n",
       "  (first_pre_extractor): Sequential(\n",
       "    (0): Conv2d(3, 16, kernel_size=(3, 3), stride=(1, 1), padding=(1, 1))\n",
       "    (1): SiLU()\n",
       "    (2): Conv2d(16, 32, kernel_size=(3, 3), stride=(2, 2), padding=(1, 1))\n",
       "    (3): SiLU()\n",
       "    (4): Conv2d(32, 32, kernel_size=(3, 3), stride=(1, 1), padding=(1, 1))\n",
       "    (5): SiLU()\n",
       "    (6): Conv2d(32, 64, kernel_size=(3, 3), stride=(2, 2), padding=(1, 1))\n",
       "    (7): SiLU()\n",
       "    (8): Conv2d(64, 64, kernel_size=(3, 3), stride=(1, 1), padding=(1, 1))\n",
       "    (9): SiLU()\n",
       "  )\n",
       "  (last_pre_extractor): Sequential(\n",
       "    (0): Conv2d(3, 16, kernel_size=(3, 3), stride=(1, 1), padding=(1, 1))\n",
       "    (1): SiLU()\n",
       "    (2): Conv2d(16, 32, kernel_size=(3, 3), stride=(2, 2), padding=(1, 1))\n",
       "    (3): SiLU()\n",
       "    (4): Conv2d(32, 32, kernel_size=(3, 3), stride=(1, 1), padding=(1, 1))\n",
       "    (5): SiLU()\n",
       "    (6): Conv2d(32, 64, kernel_size=(3, 3), stride=(2, 2), padding=(1, 1))\n",
       "    (7): SiLU()\n",
       "    (8): Conv2d(64, 64, kernel_size=(3, 3), stride=(1, 1), padding=(1, 1))\n",
       "    (9): SiLU()\n",
       "  )\n",
       "  (wrapper): FeatureWarperSoftsplat()\n",
       "  (extractors_first): ModuleList(\n",
       "    (0): Sequential(\n",
       "      (0): Conv2d(64, 160, kernel_size=(3, 3), stride=(2, 2), padding=(1, 1))\n",
       "      (1): SiLU()\n",
       "    )\n",
       "    (1): Sequential(\n",
       "      (0): Conv2d(160, 160, kernel_size=(3, 3), stride=(2, 2), padding=(1, 1))\n",
       "      (1): SiLU()\n",
       "    )\n",
       "    (2): Sequential(\n",
       "      (0): Conv2d(160, 320, kernel_size=(3, 3), stride=(2, 2), padding=(1, 1))\n",
       "      (1): SiLU()\n",
       "    )\n",
       "    (3): Sequential(\n",
       "      (0): Conv2d(320, 640, kernel_size=(3, 3), stride=(2, 2), padding=(1, 1))\n",
       "      (1): SiLU()\n",
       "    )\n",
       "  )\n",
       "  (extractors_last): ModuleList(\n",
       "    (0): Sequential(\n",
       "      (0): Conv2d(64, 160, kernel_size=(3, 3), stride=(2, 2), padding=(1, 1))\n",
       "      (1): SiLU()\n",
       "    )\n",
       "    (1): Sequential(\n",
       "      (0): Conv2d(160, 160, kernel_size=(3, 3), stride=(2, 2), padding=(1, 1))\n",
       "      (1): SiLU()\n",
       "    )\n",
       "    (2): Sequential(\n",
       "      (0): Conv2d(160, 320, kernel_size=(3, 3), stride=(2, 2), padding=(1, 1))\n",
       "      (1): SiLU()\n",
       "    )\n",
       "    (3): Sequential(\n",
       "      (0): Conv2d(320, 640, kernel_size=(3, 3), stride=(2, 2), padding=(1, 1))\n",
       "      (1): SiLU()\n",
       "    )\n",
       "  )\n",
       "  (zero_convs): ModuleList(\n",
       "    (0-1): 2 x Conv2d(320, 320, kernel_size=(3, 3), stride=(1, 1), padding=(1, 1))\n",
       "    (2): Conv2d(640, 640, kernel_size=(3, 3), stride=(1, 1), padding=(1, 1))\n",
       "    (3): Conv2d(1280, 1280, kernel_size=(3, 3), stride=(1, 1), padding=(1, 1))\n",
       "  )\n",
       ")"
      ]
     },
     "execution_count": 7,
     "metadata": {},
     "output_type": "execute_result"
    }
   ],
   "source": [
    "controlnet.feature_extractor"
   ]
  },
  {
   "cell_type": "code",
   "execution_count": 11,
   "id": "ca5e8ddf-be4e-4767-b11a-92839504db9c",
   "metadata": {},
   "outputs": [
    {
     "data": {
      "text/plain": [
       "torch.Size([320, 64, 64])"
      ]
     },
     "execution_count": 11,
     "metadata": {},
     "output_type": "execute_result"
    }
   ],
   "source": [
    "x[0].shape"
   ]
  },
  {
   "cell_type": "code",
   "execution_count": 14,
   "id": "0eafa647-88c4-4195-82a5-8877218f0cfd",
   "metadata": {},
   "outputs": [
    {
     "data": {
      "image/png": "[encoded data removed]",
      "text/plain": [
       "<Figure size 800x800 with 16 Axes>"
      ]
     },
     "metadata": {},
     "output_type": "display_data"
    }
   ],
   "source": [
    "import torch\n",
    "import matplotlib.pyplot as plt\n",
    "\n",
    "# Example tensor: [1, 320, 32, 32]\n",
    "x = outs[1] \n",
    "\n",
    "# Select the first item in batch\n",
    "feature_maps = x[0]\n",
    "\n",
    "# Choose how many maps to display (e.g., 16)\n",
    "n_maps = 16  \n",
    "fig, axes = plt.subplots(4, 4, figsize=(8, 8))\n",
    "\n",
    "for i, ax in enumerate(axes.flat):\n",
    "    fmap = feature_maps[i].detach().cpu().numpy()\n",
    "    ax.imshow(fmap, cmap=\"gray\")  # or \"gray\"\n",
    "    ax.axis(\"off\")\n",
    "    ax.set_title(f\"Ch {i}\")\n",
    "\n",
    "plt.tight_layout()\n",
    "plt.show()\n"
   ]
  },
  {
   "cell_type": "code",
   "execution_count": null,
   "id": "04243ee5-23a6-41e7-a709-ed810d95d91f",
   "metadata": {},
   "outputs": [],
   "source": []
  }
 ],
 "metadata": {
  "kernelspec": {
   "display_name": "Python 3 (ipykernel)",
   "language": "python",
   "name": "python3"
  },
  "language_info": {
   "codemirror_mode": {
    "name": "ipython",
    "version": 3
   },
   "file_extension": ".py",
   "mimetype": "text/x-python",
   "name": "python",
   "nbconvert_exporter": "python",
   "pygments_lexer": "ipython3",
   "version": "3.10.18"
  }
 },
 "nbformat": 4,
 "nbformat_minor": 5
}
