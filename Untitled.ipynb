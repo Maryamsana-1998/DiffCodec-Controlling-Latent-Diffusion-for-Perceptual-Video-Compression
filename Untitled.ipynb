{
 "cells": [
  {
   "cell_type": "code",
   "execution_count": 1,
   "id": "dad0206a-564d-43cf-ae10-aec4ccd80748",
   "metadata": {},
   "outputs": [
    {
     "name": "stderr",
     "output_type": "stream",
     "text": [
      "/data/maryamsana_98/anaconda3/envs/diffusers_env/lib/python3.10/site-packages/tqdm/auto.py:21: TqdmWarning: IProgress not found. Please update jupyter and ipywidgets. See https://ipywidgets.readthedocs.io/en/stable/user_install.html\n",
      "  from .autonotebook import tqdm as notebook_tqdm\n",
      "/data/maryamsana_98/DiffCodec-Controlling-Latent-Diffusion-for-Perceptual-Video-Compression/softsplat.py:279: FutureWarning: `torch.cuda.amp.custom_fwd(args...)` is deprecated. Please use `torch.amp.custom_fwd(args..., device_type='cuda')` instead.\n",
      "  @torch.cuda.amp.custom_fwd(cast_inputs=torch.float32)\n",
      "/data/maryamsana_98/DiffCodec-Controlling-Latent-Diffusion-for-Perceptual-Video-Compression/softsplat.py:359: FutureWarning: `torch.cuda.amp.custom_bwd(args...)` is deprecated. Please use `torch.amp.custom_bwd(args..., device_type='cuda')` instead.\n",
      "  def backward(self, tenOutgrad):\n"
     ]
    }
   ],
   "source": [
    "import torch\n",
    "import torch.nn.functional as F\n",
    "import numpy as np\n",
    "from PIL import Image\n",
    "import torchvision.transforms.functional as TF\n",
    "from safetensors.torch import load_file\n",
    "from diffusers import (\n",
    "    AutoencoderKL,\n",
    "    UNet2DConditionModel,\n",
    "    UniPCMultistepScheduler,\n",
    ")\n",
    "from transformers import CLIPTextModel, CLIPTokenizer\n",
    "\n",
    "# your classes\n",
    "from flownet import DualFlowControlNet\n",
    "from pipeline import StableDiffusionDualFlowControlNetPipeline"
   ]
  },
  {
   "cell_type": "code",
   "execution_count": 6,
   "id": "87ec793f-092e-44d1-a237-c189303af19a",
   "metadata": {},
   "outputs": [],
   "source": [
    "# ---------------------------\n",
    "# Helpers: image & .flo loaders\n",
    "# ---------------------------\n",
    "def read_flo(path: str) -> np.ndarray:\n",
    "    \"\"\"Middlebury .flo → [H,W,2] float32 (pixel units).\"\"\"\n",
    "    with open(path, \"rb\") as f:\n",
    "        magic = np.fromfile(f, np.float32, 1)[0]\n",
    "        if magic != 202021.25:\n",
    "            raise ValueError(f\"Invalid .flo file: {path} (magic={magic})\")\n",
    "        w = int(np.fromfile(f, np.int32, 1)[0])\n",
    "        h = int(np.fromfile(f, np.int32, 1)[0])\n",
    "        data = np.fromfile(f, np.float32, 2 * w * h).reshape(h, w, 2)\n",
    "    return data\n",
    "\n",
    "def resize_flow_to(flow_hw2: np.ndarray, target_h: int, target_w: int) -> torch.Tensor:\n",
    "    \"\"\"Resize flow with bilinear and scale vectors to remain in pixel units.\"\"\"\n",
    "    ft = torch.from_numpy(flow_hw2).permute(2, 0, 1).unsqueeze(0)  # [1,2,H,W]\n",
    "    _, _, H, W = ft.shape\n",
    "    ft = F.interpolate(ft, size=(target_h, target_w), mode=\"bilinear\", align_corners=True)\n",
    "    ft[:, 0] *= (target_w / max(W, 1))\n",
    "    ft[:, 1] *= (target_h / max(H, 1))\n",
    "    return ft  # [1,2,target_h,target_w]\n",
    "\n",
    "def load_pair_to_sixch(path0, path1, size=(512, 512)) -> torch.Tensor:\n",
    "    \"\"\"Two RGB images → [1,6,H,W] in [0,1].\"\"\"\n",
    "    def load_rgb(p):\n",
    "        img = Image.open(p).convert(\"RGB\")\n",
    "        if size is not None:\n",
    "            img = img.resize(size, Image.BICUBIC)\n",
    "        return TF.to_tensor(img)  # [3,H,W], float32\n",
    "    a = load_rgb(path0)\n",
    "    b = load_rgb(path1)\n",
    "    return torch.cat([a, b], dim=0).unsqueeze(0)  # [1,6,H,W]\n",
    "\n",
    "def load_controls_and_flows(\n",
    "    img0_path, img1_path, fwd_flo_path, bwd_flo_path, size=(512, 512), device=\"cuda\", dtype=torch.float32\n",
    "):\n",
    "    H, W = size\n",
    "    sixch = load_pair_to_sixch(img0_path, img1_path, size=size).to(device=device, dtype=dtype)  # [1,6,H,W]\n",
    "\n",
    "    fwd = read_flo(fwd_flo_path)\n",
    "    bwd = read_flo(bwd_flo_path)\n",
    "    fwd_t = resize_flow_to(fwd, H, W)\n",
    "    bwd_t = resize_flow_to(bwd, H, W)\n",
    "    flow4 = torch.cat([fwd_t, bwd_t], dim=1).to(device=device, dtype=dtype)  # [1,4,H,W]\n",
    "    return sixch, flow4\n"
   ]
  },
  {
   "cell_type": "code",
   "execution_count": 2,
   "id": "6a7cec58-3caa-456a-8002-0bfdf61031f5",
   "metadata": {},
   "outputs": [],
   "source": [
    "# ---------------------------\n",
    "# Load models (aligned SD-1.5)\n",
    "# ---------------------------\n",
    "device = \"cuda\"\n",
    "dtype  = torch.float32   # use fp32 until everything is stable; then you can flip to fp16 + upcast SoftSplat\n",
    "\n",
    "base = \"stable-diffusion-v1-5/stable-diffusion-v1-5\"\n",
    "\n",
    "vae = AutoencoderKL.from_pretrained(base, subfolder=\"vae\", torch_dtype=dtype)\n",
    "unet = UNet2DConditionModel.from_pretrained(base, subfolder=\"unet\", torch_dtype=dtype)\n",
    "text_encoder = CLIPTextModel.from_pretrained(base, subfolder=\"text_encoder\", torch_dtype=dtype)\n",
    "tokenizer = CLIPTokenizer.from_pretrained(base, subfolder=\"tokenizer\")\n",
    "scheduler = UniPCMultistepScheduler.from_pretrained(base, subfolder=\"scheduler\")"
   ]
  },
  {
   "cell_type": "code",
   "execution_count": 3,
   "id": "9e50f16f-e437-4140-af06-2f9eebad4cb4",
   "metadata": {},
   "outputs": [],
   "source": [
    "# --- ControlNet: load your subclass weights ---\n",
    "controlnet = DualFlowControlNet(\n",
    "    block_out_channels=tuple(unet.config.block_out_channels),     # (320, 640, 1280, 1280)\n",
    "    layers_per_block=2,\n",
    "    cross_attention_dim=768,   \n",
    " )\n",
    "# controlnet.load_state_dict(torch.load(\"path/to/controlnet.safetensors\" or \".pth\", map_location=\"cpu\"))\n",
    "\n",
    "# sanity: cross-attn dims must match (768 for SD1.x)\n",
    "assert unet.config.cross_attention_dim == text_encoder.config.hidden_size == 768\n",
    "if hasattr(controlnet, \"config\") and hasattr(controlnet.config, \"cross_attention_dim\"):\n",
    "    assert controlnet.config.cross_attention_dim == 768, f\"ControlNet CAD={controlnet.config.cross_attention_dim}\""
   ]
  },
  {
   "cell_type": "code",
   "execution_count": 5,
   "id": "941c3f6a-b17e-4b54-a22b-ccadb2008906",
   "metadata": {},
   "outputs": [
    {
     "data": {
      "text/plain": [
       "_IncompatibleKeys(missing_keys=['fdn64.conv_gamma.weight', 'fdn64.conv_gamma.bias', 'fdn64.conv_beta.weight', 'fdn64.conv_beta.bias', 'fdn32.conv_gamma.weight', 'fdn32.conv_gamma.bias', 'fdn32.conv_beta.weight', 'fdn32.conv_beta.bias', 'fdn16.conv_gamma.weight', 'fdn16.conv_gamma.bias', 'fdn16.conv_beta.weight', 'fdn16.conv_beta.bias', 'fdn08.conv_gamma.weight', 'fdn08.conv_gamma.bias', 'fdn08.conv_beta.weight', 'fdn08.conv_beta.bias'], unexpected_keys=[])"
      ]
     },
     "execution_count": 5,
     "metadata": {},
     "output_type": "execute_result"
    }
   ],
   "source": [
    "ckpt = load_file('experiments/controlnet/checkpoint-5500/controlnet/diffusion_pytorch_model.safetensors')\n",
    "controlnet.load_state_dict(ckpt,strict=False)"
   ]
  },
  {
   "cell_type": "code",
   "execution_count": 7,
   "id": "1c98581e-8377-4a8c-a495-be9734cf0c56",
   "metadata": {},
   "outputs": [],
   "source": [
    "# ---------------------------\n",
    "# Build your custom pipeline\n",
    "# ---------------------------\n",
    "pipe = StableDiffusionDualFlowControlNetPipeline(\n",
    "    vae=vae,\n",
    "    text_encoder=text_encoder,\n",
    "    tokenizer=tokenizer,\n",
    "    unet=unet,\n",
    "    controlnet=controlnet,\n",
    "    scheduler=scheduler,\n",
    "    safety_checker=None,          # optional\n",
    "    feature_extractor=None,       # optional\n",
    "    image_encoder=None,\n",
    "    requires_safety_checker=False,\n",
    ").to(device)\n",
    "\n",
    "# Optional: try without xformers first; enable later if you want.\n",
    "# pipe.enable_xformers_memory_efficient_attention()\n",
    "\n",
    "for m in (pipe.unet, pipe.vae, pipe.text_encoder, pipe.controlnet):\n",
    "    m.eval()\n",
    "torch.set_grad_enabled(False)\n",
    "\n",
    "# ---------------------------\n",
    "# Load controls\n",
    "# ---------------------------\n",
    "sixch, flow4 = load_controls_and_flows(\n",
    "    \"data/Beauty/images/frame_0000.png\",\n",
    "    \"data/Beauty/images/frame_0002.png\",\n",
    "    \"data/Beauty/optical_flow/optical_flow_gop_2_raft/flow_0000_0001.flo\",\n",
    "    \"data/Beauty/optical_flow_bwd/optical_flow_gop_2_raft/flow_0002_0001.flo\",\n",
    "    size=(512, 512),\n",
    "    device=device,\n",
    "    dtype=dtype,\n",
    ")"
   ]
  },
  {
   "cell_type": "code",
   "execution_count": 8,
   "id": "94ad989c-e4e3-4ba0-88cc-455585b0ac54",
   "metadata": {},
   "outputs": [
    {
     "name": "stderr",
     "output_type": "stream",
     "text": [
      "100%|██████████████████████████████████████████████████████████████████████████████| 30/30 [00:07<00:00,  3.85it/s]\n"
     ]
    },
    {
     "name": "stdout",
     "output_type": "stream",
     "text": [
      "Saved: dualflow_cn_out.png\n"
     ]
    }
   ],
   "source": [
    "# ---------------------------\n",
    "# Inference\n",
    "# ---------------------------\n",
    "prompt = \"a pretty girl smiling , has pink lipstick and is infront of black background\"\n",
    "g = torch.Generator(device=device).manual_seed(42)  # reproducible latents\n",
    "\n",
    "out = pipe(\n",
    "    prompt=prompt,\n",
    "    controlnet_cond=sixch,         # [B,6,512,512]\n",
    "    flow_cond=flow4,               # [B,4,512,512]\n",
    "    height=512,\n",
    "    width=512,\n",
    "    num_inference_steps=30,\n",
    "    guidance_scale=7.5,\n",
    "    negative_prompt=None,\n",
    "    num_images_per_prompt=1,\n",
    "    generator=g,                   # used only for initial latents\n",
    "    controlnet_conditioning_scale=1.0,  # try 0.0 (baseline), 0.5, 1.0\n",
    "    guess_mode=False,\n",
    "    output_type=\"pil\",\n",
    "    return_dict=True,\n",
    ")\n",
    "\n",
    "img = out.images[0]\n",
    "img.save(\"dualflow_cn_out.png\")\n",
    "print(\"Saved: dualflow_cn_out.png\")\n"
   ]
  },
  {
   "cell_type": "code",
   "execution_count": 9,
   "id": "97b939ce-dd9e-4889-a534-b399ca5eff13",
   "metadata": {},
   "outputs": [],
   "source": [
    "outs = controlnet.feature_extractor(sixch,flow4)"
   ]
  },
  {
   "cell_type": "code",
   "execution_count": null,
   "id": "50c3dcf0-404d-429e-83f5-28f8f5509643",
   "metadata": {},
   "outputs": [],
   "source": [
    "controlnet.feature_extractor"
   ]
  },
  {
   "cell_type": "code",
   "execution_count": null,
   "id": "ca5e8ddf-be4e-4767-b11a-92839504db9c",
   "metadata": {},
   "outputs": [],
   "source": [
    "x[0].shape"
   ]
  },
  {
   "cell_type": "code",
   "execution_count": 12,
   "id": "0eafa647-88c4-4195-82a5-8877218f0cfd",
   "metadata": {},
   "outputs": [
    {
     "data": {
      "image/png": "[encoded data removed]",
      "text/plain": [
       "<Figure size 800x800 with 16 Axes>"
      ]
     },
     "metadata": {},
     "output_type": "display_data"
    }
   ],
   "source": [
    "import torch\n",
    "import matplotlib.pyplot as plt\n",
    "\n",
    "# Example tensor: [1, 320, 32, 32]\n",
    "x = outs[2] \n",
    "\n",
    "# Select the first item in batch\n",
    "feature_maps = x[0]\n",
    "\n",
    "# Choose how many maps to display (e.g., 16)\n",
    "n_maps = 16  \n",
    "fig, axes = plt.subplots(4, 4, figsize=(8, 8))\n",
    "\n",
    "for i, ax in enumerate(axes.flat):\n",
    "    fmap = feature_maps[i].detach().cpu().numpy()\n",
    "    ax.imshow(fmap, cmap=\"gray\")  # or \"gray\"\n",
    "    ax.axis(\"off\")\n",
    "    ax.set_title(f\"Ch {i}\")\n",
    "\n",
    "plt.tight_layout()\n",
    "plt.show()\n"
   ]
  },
  {
   "cell_type": "code",
   "execution_count": null,
   "id": "04243ee5-23a6-41e7-a709-ed810d95d91f",
   "metadata": {},
   "outputs": [],
   "source": []
  }
 ],
 "metadata": {
  "kernelspec": {
   "display_name": "Python 3 (ipykernel)",
   "language": "python",
   "name": "python3"
  },
  "language_info": {
   "codemirror_mode": {
    "name": "ipython",
    "version": 3
   },
   "file_extension": ".py",
   "mimetype": "text/x-python",
   "name": "python",
   "nbconvert_exporter": "python",
   "pygments_lexer": "ipython3",
   "version": "3.10.18"
  }
 },
 "nbformat": 4,
 "nbformat_minor": 5
}
