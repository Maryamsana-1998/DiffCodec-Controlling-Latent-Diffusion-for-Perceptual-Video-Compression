{
 "cells": [
  {
   "cell_type": "code",
   "execution_count": 8,
   "id": "5e1f1556-f7f3-4fd7-b9aa-85f42adef051",
   "metadata": {},
   "outputs": [],
   "source": [
    "# Example RD arrays for dataset/gop (user must fill actual numbers)\n",
    "import pandas as pd\n",
    "import numpy as np \n",
    "ours = pd.read_csv('benchmark_results/csv_for_latex/ours_data.csv')\n",
    "hevc = pd.read_csv('benchmark_results/csv_for_latex/hevc_data.csv')\n",
    "h264 = pd.read_csv('benchmark_results/csv_for_latex/h264_data.csv')\n",
    "bpp_ours = ours['total_bpp'].values\n",
    "msssim_ours = ours['MS-SSIM'].values\n",
    "lpips_ours = ours['LPIPS'].values\n",
    "fid_ours = ours['FID'].values\n",
    "\n",
    "bpp_hevc = hevc['total_bpp'].values\n",
    "msssim_hevc = hevc['MS-SSIM'].values\n",
    "lpips_hevc = hevc['LPIPS'].values\n",
    "fid_hevc = hevc['FID'].values\n",
    "\n",
    "lpips_ours_inv = 1 - lpips_ours\n",
    "lpips_hevc_inv = 1 - lpips_hevc\n",
    "\n",
    "fid_ours_inv = 1 - np.array(fid_ours) / np.max([np.max(fid_ours), np.max(fid_hevc)])\n",
    "fid_hevc_inv = 1 - np.array(fid_hevc) / np.max([np.max(fid_ours), np.max(fid_hevc)])\n"
   ]
  },
  {
   "cell_type": "code",
   "execution_count": 9,
   "id": "cdc872d9",
   "metadata": {},
   "outputs": [],
   "source": [
    "import numpy as np\n",
    "from scipy import interpolate, integrate\n",
    "\n",
    "def bd_rate(bpp1, metric1, bpp2, metric2):\n",
    "    log_bpp1 = np.log(bpp1)\n",
    "    log_bpp2 = np.log(bpp2)\n",
    "\n",
    "    # Polynomial fit\n",
    "    p1 = np.polyfit(metric1, log_bpp1, 3)\n",
    "    p2 = np.polyfit(metric2, log_bpp2, 3)\n",
    "\n",
    "    # Integration limits\n",
    "    min_int = max(min(metric1), min(metric2))\n",
    "    max_int = min(max(metric1), max(metric2))\n",
    "\n",
    "    # Integrate polynomials\n",
    "    int1 = np.polyint(p1)\n",
    "    int2 = np.polyint(p2)\n",
    "\n",
    "    avg1 = np.polyval(int1, max_int) - np.polyval(int1, min_int)\n",
    "    avg2 = np.polyval(int2, max_int) - np.polyval(int2, min_int)\n",
    "    avg_diff = (avg2 - avg1) / (max_int - min_int)\n",
    "\n",
    "    return (np.exp(avg_diff) - 1) * 100\n"
   ]
  },
  {
   "cell_type": "code",
   "execution_count": 10,
   "id": "c1f3c1cd",
   "metadata": {},
   "outputs": [
    {
     "name": "stdout",
     "output_type": "stream",
     "text": [
      "BD-Rate vs HEVC:\n",
      "  MS-SSIM: 322.70%\n",
      "  LPIPS: 312.93%\n",
      "  FID: 157.07%\n"
     ]
    },
    {
     "name": "stderr",
     "output_type": "stream",
     "text": [
      "/tmp/ipykernel_974384/3625611956.py:1: RankWarning: Polyfit may be poorly conditioned\n",
      "  bd_ms = bd_rate(bpp_hevc, msssim_hevc, bpp_ours, msssim_ours)\n",
      "/tmp/ipykernel_974384/3625611956.py:2: RankWarning: Polyfit may be poorly conditioned\n",
      "  bd_lpips = bd_rate(bpp_hevc, lpips_hevc_inv, bpp_ours, lpips_ours_inv)\n",
      "/tmp/ipykernel_974384/3625611956.py:3: RankWarning: Polyfit may be poorly conditioned\n",
      "  bd_fid = bd_rate(bpp_hevc, fid_hevc_inv, bpp_ours, fid_ours_inv)\n"
     ]
    }
   ],
   "source": [
    "bd_ms = bd_rate(bpp_hevc, msssim_hevc, bpp_ours, msssim_ours)\n",
    "bd_lpips = bd_rate(bpp_hevc, lpips_hevc_inv, bpp_ours, lpips_ours_inv)\n",
    "bd_fid = bd_rate(bpp_hevc, fid_hevc_inv, bpp_ours, fid_ours_inv)\n",
    "\n",
    "print(\"BD-Rate vs HEVC:\")\n",
    "print(f\"  MS-SSIM: {bd_ms:.2f}%\")\n",
    "print(f\"  LPIPS: {bd_lpips:.2f}%\")\n",
    "print(f\"  FID: {bd_fid:.2f}%\")\n"
   ]
  },
  {
   "cell_type": "code",
   "execution_count": 11,
   "id": "eef6b343",
   "metadata": {},
   "outputs": [
    {
     "data": {
      "text/plain": [
       "array([0.00937975, 0.01132116, 0.04076806, 0.08583611])"
      ]
     },
     "execution_count": 11,
     "metadata": {},
     "output_type": "execute_result"
    }
   ],
   "source": [
    "bpp_hevc"
   ]
  },
  {
   "cell_type": "code",
   "execution_count": 12,
   "id": "9078c216",
   "metadata": {},
   "outputs": [
    {
     "data": {
      "text/plain": [
       "array([0.029   , 0.047403, 0.053355])"
      ]
     },
     "execution_count": 12,
     "metadata": {},
     "output_type": "execute_result"
    }
   ],
   "source": [
    "bpp_ours"
   ]
  }
 ],
 "metadata": {
  "kernelspec": {
   "display_name": "unicontrolwrap",
   "language": "python",
   "name": "python3"
  },
  "language_info": {
   "codemirror_mode": {
    "name": "ipython",
    "version": 3
   },
   "file_extension": ".py",
   "mimetype": "text/x-python",
   "name": "python",
   "nbconvert_exporter": "python",
   "pygments_lexer": "ipython3",
   "version": "3.8.5"
  }
 },
 "nbformat": 4,
 "nbformat_minor": 5
}
